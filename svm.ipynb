{
 "cells": [
  {
   "cell_type": "code",
   "execution_count": 1,
   "metadata": {},
   "outputs": [],
   "source": [
    "# import tensorflow as tf\n",
    "import numpy as np\n",
    "import matplotlib\n",
    "import matplotlib.pyplot as plt\n",
    "#import sklearn\n",
    "from scipy.optimize import minimize"
   ]
  },
  {
   "cell_type": "markdown",
   "metadata": {},
   "source": [
    "Consider the following training data with two categories (labels):\n",
    "$$C_1 : (1, 3)^T \\quad (2, 3)^T \\quad (2, 4)^T$$\n",
    "$$C_{-1} : (3, 1)^T \\quad (3, 2)^T \\quad (4, 2)^T$$\n",
    "That is, there are six training data points, each data point has two features and a corresponding\n",
    "label."
   ]
  },
  {
   "cell_type": "markdown",
   "metadata": {},
   "source": [
    "Plot the data. "
   ]
  },
  {
   "cell_type": "code",
   "execution_count": 2,
   "metadata": {},
   "outputs": [
    {
     "data": {
      "text/plain": [
       "Text(0.5, 1.0, 'Scatter-plot of the Data')"
      ]
     },
     "execution_count": 2,
     "metadata": {},
     "output_type": "execute_result"
    },
    {
     "data": {
      "image/png": "[encoded data removed]",
      "text/plain": [
       "<Figure size 288x288 with 1 Axes>"
      ]
     },
     "metadata": {
      "needs_background": "light"
     },
     "output_type": "display_data"
    }
   ],
   "source": [
    "## plot the data with original line\n",
    "C = np.array([[1,3,1],[2,3,1],[2,4,1],[3,1,-1],[3,2,-1],[4,2,-1]]) #one row of C is: x, y, label\n",
    "label = C[:,2]\n",
    "\n",
    "fig = plt.figure(figsize=(4,4))\n",
    "\n",
    "plt.scatter(C[label==1,0],C[label==1,1],marker = \"*\",color = 'k')\n",
    "plt.scatter(C[label==-1,0],C[label==-1,1],marker = \"x\",color ='k')\n",
    "\n",
    "x = np.linspace(-0.1,4.1,100)\n",
    "w = np.array([0,1,-1])\n",
    "y = (-w[0] - w[1] * x)/w[2]\n",
    "plt.plot(x, y, '-r', label='line y=x')\n",
    "axes = plt.gca()\n",
    "axes.set_ylim([-0.1,4.1])\n",
    "axes.set_xlim([-0.1,4.1])\n",
    "plt.legend(bbox_to_anchor=(1.04,1), loc=\"upper left\")\n",
    "axes.set_xlabel('$x_1$')\n",
    "axes.set_ylabel('$x_2$')\n",
    "plt.title('Scatter-plot of the Data', fontsize = 16)"
   ]
  },
  {
   "cell_type": "markdown",
   "metadata": {},
   "source": [
    "By visual inspection, the data reflects about the line $x_2 = x_1$ (i.e. this line separates the two classes of data). \n",
    "The line $x_2 = x_1$ is given by the equation for a hyperplane, $w^T x + b= 0$:\n",
    "$$[-1,1] \\begin{bmatrix}x_1 \\\\x_2 \\end{bmatrix} +  0 = 0.$$\n",
    "\n",
    "Let's now determine the optimal hyperplane for the SVM model. The two closest points to $x_2=x_1$ from opposite classes are $(2,3)^T$ and $(3,2)^T$. The line going through these two points will have a slope of $\\frac{3-2}{2-3} = -1$. Since the optimal hyperplane for the SVM model will be orthogonal to the line with slope -1 then the optimal hyperplane has a slope of 1. The optimal hyperplane will also be equidistant to $(2,3)^T$ and $(3,2)^T$. Thus, we can confirm the line $x_2 = x_1$ is the optimal hyperplane for the SVM model.\n",
    "\n",
    "Thus, weight vector $w = [-1,1]^T$ and bias $b = 0$ construct the optimal hyperplane $w^T x + b= 0$. "
   ]
  },
  {
   "cell_type": "markdown",
   "metadata": {},
   "source": [
    "Assuming we won't always be given such nice data, let's find the SVM model in a more rigorous way (i.e. not by visual inspection). \n",
    "\n",
    "Constructing the SVM model will require solving the corresponding quadratic programming problem in the dual Lagrangian formulation. Set our margin to be $m = \\frac{2}{\\|[-1,1]\\|}$. We need to show $m$ is the solution to the optimization problem:\n",
    "    $$\n",
    "    \\begin{aligned}\n",
    "    & \\underset{w}{\\text{maximize}} & & \\frac{2}{\\|w\\|} \\\\\n",
    "    & \\text{subject to}             & & y_i(w^T x(i) + b)\\geq 1\n",
    "    \\end{aligned}\n",
    "    $$\n",
    " which is equivalent to solving\n",
    "    $$\n",
    "    \\begin{aligned}\n",
    "    & \\underset{w}{\\text{minimize}} & & \\|w\\|\\\\\n",
    "    & \\text{subject to}             & & y_i(w^T x(i) + b)\\geq 1\n",
    "    \\end{aligned}\n",
    "    $$\n",
    "and can be simplified to the Primal\n",
    "    $$\n",
    "    \\begin{aligned}\n",
    "    & \\underset{w,b}{\\text{minimize}} & & \\frac{1}{2}w^T w \\\\\n",
    "    & \\text{subject to}             & & -y_i(w^T x(i) + b)+1\\leq 0\n",
    "    \\end{aligned}\\label{primal}\n",
    "    $$\n",
    "using the KKT conditions, we set $Q$ to be the outer product $Q = [y_1x_1,...,y_Nx_N]^T [y_1x_1,...,y_Nx_N]$ so the Dual becomes\n",
    "    $$\n",
    "    \\begin{aligned}\n",
    "    & \\underset{\\lambda}{\\text{maximize}} & & \\lambda^T 1- \\frac{1}{2} \\lambda^T Q \\lambda\\\\\n",
    "    & \\text{subject to}             & & \\lambda_i \\geq 0 \\\\\n",
    "    &                               & & \\lambda^T y = 0 \n",
    "    \\end{aligned}\\label{dual}\n",
    "    $$\n",
    "We use the quadratic programming solver $quadprog$, and recall that: $max~ f(x) = -min~-f(x)$ to encode it into the solver and find the optimal $\\lambda$. "
   ]
  },
  {
   "cell_type": "code",
   "execution_count": 3,
   "metadata": {},
   "outputs": [
    {
     "name": "stdout",
     "output_type": "stream",
     "text": [
      "optimal lambda =  [-0.  1. -0.  0.  1.  0.]\n",
      "optimal w =  [-1.  1.] , optimal b =  [-1.0, 0.0, -1.0, 1.0, -0.0, 1.0]\n"
     ]
    }
   ],
   "source": [
    "# https://anaconda.org/omnia/quadprog\n",
    "# https://scaron.info/blog/quadratic-programming-in-python.html\n",
    "# troubleshooting: https://github.com/facebookresearch/GradientEpisodicMemory/issues/2\n",
    "# troubleshooting: https://github.com/rmcgibbo/quadprog/blob/master/quadprog/quadprog.pyx\n",
    "import quadprog\n",
    "\n",
    "#converts standard form quadratic program into form quadprog will evaluate\n",
    "# https://scaron.info/blog/quadratic-programming-in-python.html\n",
    "def quadprog_solve_qp(P, q, G=None, h=None, A=None, b=None):\n",
    "    qp_P = .5 * (P + P.T) + (1e-3)*np.eye(P.shape[0])  # make sure P is positive definite\n",
    "    qp_q = -q\n",
    "    if A is not None: #equality constraint present\n",
    "        qp_C = -np.vstack([A, G]).T\n",
    "        qp_b = np.reshape(-np.vstack([b, h]).T,(12))\n",
    "        meq = int(A.shape[0]) # number of equality constraints\n",
    "    else:  # no equality constraint present\n",
    "        qp_C = -G.T\n",
    "        qp_b = -h\n",
    "        meq = 0\n",
    "    return quadprog.solve_qp(qp_P, qp_q, qp_C, qp_b, meq)[0]\n",
    "\n",
    "#the input matrix for SVM (in standard form)\n",
    "Q = np.zeros([6,6])\n",
    "for i in range(0,6):\n",
    "    for j in range(0,6):\n",
    "        Q[i,j] = (label[i] * label[j])*(C[i,0:2]@C[j,0:2])\n",
    "\n",
    "#initialize variables to optimize over \n",
    "q = np.ones(6)\n",
    "G = np.eye(6)\n",
    "h = np.zeros([6,1])\n",
    "A = np.zeros([6,6])\n",
    "A[0,:] = label.T\n",
    "b = np.zeros([6,1])\n",
    "\n",
    "# solve the Dual using quadprog\n",
    "L = np.round(quadprog_solve_qp(Q, q, G, h, A, b),2)\n",
    "print(\"optimal lambda = \", -L)\n",
    "\n",
    "# re-formulate L to solve the Primal\n",
    "W = [-L[i] * label[i] * C[i,0:2] for i in range(6)]\n",
    "w = np.array([sum(W[j][0] for j in range(6)), sum(W[j][1] for j in range(6))])\n",
    "\n",
    "b = [(1 - label[k]*(w@C[k,0:2]))/(label[k]) for k in range(6)]\n",
    "print(\"optimal w = \",w, \", optimal b = \" , b)\n"
   ]
  },
  {
   "cell_type": "markdown",
   "metadata": {},
   "source": [
    "We find the optimal solution to the Dual is\n",
    "    $$\n",
    "    \\lambda^* = [0,1,0,0,1,0]. \n",
    "    $$\n",
    "Now find the optimal solutions to the Primal, $w^*$ and $b^*$,\n",
    "$$w^* = \\sum_{i=1}^6 \\lambda_i^* y_i x(i) = [-1,1]$$\n",
    "$$b_i^* = \\frac{1-y_i(w^*\\cdot x(i))}{y_i}$$\n",
    "$$b^* = [-1,0,-1,1,0,1]$$\n",
    "Since we only consider the $b_i^*$ with $\\lambda_i>0$, corresponding to active constraints in our dual, then our resulting optimal is \n",
    "$$b^* = 0.$$ \n",
    "\n",
    "Therefore, the optimal hyperplane is defined by vectors $w = [-1,1]^T$ and $b = [0,0]^T$, the same result as our visual inspection. \n"
   ]
  },
  {
   "cell_type": "markdown",
   "metadata": {},
   "source": [
    "Now, we compare the separating hyperplane in the SVM model with the Linear Discriminant Analysis (LDA) model. For the LDA we're looking for the plane \n",
    "$$w_0 + w^Tx = 0$$\n",
    "such that the projection of the data onto the hyperplane $\\hat{w}$ has maximum distribution between means, while minimizing the variance. We'll start by finding the distribution of the data in each one of the classes. \\begin{align*}\n",
    "   n_1 &= 3 & n_{-1} &= 3\\\\\n",
    "   \\mu_1 &= \\left[\\frac{5}{3}, \\frac{10}{3}\\right]^T & \\mu_{-1} &= \\left[\\frac{10}{3}, \\frac{5}{3}\\right]^T\\\\\n",
    "   \\Sigma_1 &= \\begin{bmatrix} \\frac{2}{6} & \\frac{1}{6} \\\\ \\frac{1}{6} & \\frac{2}{6} \\end{bmatrix} & \\Sigma_{-1} &= \\begin{bmatrix} \\frac{2}{6} & \\frac{1}{6} \\\\ \\frac{1}{6} & \\frac{2}{6} \\end{bmatrix}\n",
    "\\end{align*}\n",
    "Using Fisher's optimility criteria, to maximize the differences in the mean and minimize the variance, we would like to find $w^*$ such that \n",
    "\\begin{align*}\n",
    "w^* &= \\underset{w}{\\text{argmax}} \\frac{(w^T \\mu_1 - w^T \\mu_{-1})^2}{w^T\\Sigma_1w + w^T \\Sigma_{-1}w}\\\\\n",
    "&= \\underset{w}{\\text{argmax}} \\frac{(\\left[-\\frac{5}{3}, \\frac{5}{3} \\right] w)^2}{w^T \\begin{bmatrix} \\frac{2}{3} & \\frac{1}{3} \\\\ \\frac{1}{3} & \\frac{2}{3} \\end{bmatrix} w}\n",
    "\\end{align*}\n"
   ]
  },
  {
   "cell_type": "code",
   "execution_count": 5,
   "metadata": {},
   "outputs": [
    {
     "name": "stdout",
     "output_type": "stream",
     "text": [
      "optimal w = [-1.66666667  1.66666667] \n",
      " optimal b = 0.0\n"
     ]
    }
   ],
   "source": [
    "# Class 1\n",
    "n1 = 3\n",
    "mu1 = np.average([C[i,0:2] for i in range(n1)],axis = 0)\n",
    "cov1 = (1/(n1-1))*sum(np.outer((C[i,0:2]-mu1),(C[i,0:2]-mu1)) for i in range(n1))\n",
    "# Class -1\n",
    "n2 = 3\n",
    "mu2 = np.average([C[i,0:2] for i in range(n1,n1+n2)],axis = 0)\n",
    "cov2 = (1/(n2-1))*sum(np.outer((C[i,0:2]-mu2),(C[i,0:2]-mu2)) for i in range(n1,n1+n2))\n",
    "\n",
    "# Returns the Cholesky decomposition \n",
    "# https://het.as.utexas.edu/HET/Software/Numpy/reference/generated/numpy.linalg.cholesky.html\n",
    "R = np.transpose(np.linalg.cholesky(n1*cov1+n2*cov2))\n",
    "#print(R)\n",
    "\n",
    "w = np.linalg.inv(np.transpose(R)@R)@(mu1-mu2)\n",
    "b = np.round((1/6)*sum((label[i] - w@C[i,0:2]) for i in range(n1+n2)),3)\n",
    "\n",
    "print(\"optimal w =\" ,w,'\\n',\"optimal b =\",b)"
   ]
  },
  {
   "cell_type": "markdown",
   "metadata": {},
   "source": [
    "Thus, the optimal solution occurs when \n",
    "$$\n",
    "w^* = \\frac{1}{c} \\begin{bmatrix} \\frac{2}{3} & \\frac{1}{3} \\\\ \\frac{1}{3} & \\frac{2}{3} \\end{bmatrix}^{-1}  \\begin{bmatrix}-\\frac{5}{3}\\\\ \\frac{5}{3} \\end{bmatrix}$$\n",
    "where $c$ is an arbitrary constant,\n",
    "\\begin{align*}\n",
    "&= \\begin{bmatrix} \\frac{2}{3} & -\\frac{1}{3} \\\\ -\\frac{1}{3} & \\frac{2}{3} \\end{bmatrix} \\begin{bmatrix}-\\frac{5}{3}\\\\ \\frac{5}{3} \\end{bmatrix}\\\\\n",
    "&= \\begin{bmatrix}-\\frac{5}{3}\\\\ \\frac{5}{3} \\end{bmatrix}\n",
    "\\end{align*}\n",
    "Now if $w_0^* = \\frac{1}{6} \\sum_{i=1}^6 y_i - w^* x(i)$, then $w_0^* = 0$. Thus the LDA optimal hyperplane is given by $w^* = \\left[-\\frac{5}{3}, \\frac{5}{3}\\right]^T$ and $w_0^*=[0,0]^T$. \n",
    "\n",
    "\n",
    "Observe that the hyperplane $w_0^* + w^{*T} x = 0$ is now the exact same hyperplane as the SVM and visual observation techniques. The only difference here is that our weight vector is $\\left[-\\frac{5}{3}, \\frac{5}{3} \\right]^T$, but this is just a constant multiple of $[-1,1]^T$, the weight predicted by the other techniques."
   ]
  },
  {
   "cell_type": "code",
   "execution_count": null,
   "metadata": {},
   "outputs": [],
   "source": []
  }
 ],
 "metadata": {
  "kernelspec": {
   "display_name": "Python 3 (ipykernel)",
   "language": "python",
   "name": "python3"
  },
  "language_info": {
   "codemirror_mode": {
    "name": "ipython",
    "version": 3
   },
   "file_extension": ".py",
   "mimetype": "text/x-python",
   "name": "python",
   "nbconvert_exporter": "python",
   "pygments_lexer": "ipython3",
   "version": "3.9.7"
  }
 },
 "nbformat": 4,
 "nbformat_minor": 2
}
